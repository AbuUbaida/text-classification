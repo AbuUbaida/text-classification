{
  "nbformat": 4,
  "nbformat_minor": 0,
  "metadata": {
    "colab": {
      "name": "SoftComputingAssignment3",
      "provenance": []
    },
    "kernelspec": {
      "name": "python3",
      "display_name": "Python 3"
    },
    "language_info": {
      "name": "python"
    }
  },
  "cells": [
    {
      "cell_type": "code",
      "metadata": {
        "colab": {
          "base_uri": "https://localhost:8080/"
        },
        "id": "Cfoo_Kb3T2ym",
        "outputId": "15a303d0-23d7-4209-9fbe-09aa14c23358"
      },
      "source": [
        "!gdown --id 1ovYiBl-6XFBI9ooATficyPpY6aaZCYEk"
      ],
      "execution_count": 1,
      "outputs": [
        {
          "output_type": "stream",
          "name": "stdout",
          "text": [
            "Downloading...\n",
            "From: https://drive.google.com/uc?id=1ovYiBl-6XFBI9ooATficyPpY6aaZCYEk\n",
            "To: /content/Dataset 1.csv\n",
            "\r  0% 0.00/999k [00:00<?, ?B/s]\r100% 999k/999k [00:00<00:00, 66.4MB/s]\n"
          ]
        }
      ]
    },
    {
      "cell_type": "code",
      "metadata": {
        "colab": {
          "base_uri": "https://localhost:8080/"
        },
        "id": "hg5Lw4iBV9kg",
        "outputId": "1184e289-e981-44c6-a458-1cb4016a4a2b"
      },
      "source": [
        "import matplotlib.pyplot as plt\n",
        "import warnings\n",
        "import time,sys\n",
        "import copy\n",
        "import pandas as pd\n",
        "import numpy as np\n",
        "import cv2\n",
        "import os\n",
        "import pathlib\n",
        "import zipfile\n",
        "import torch\n",
        "import torchvision\n",
        "from torchvision import models\n",
        "import torchvision.transforms as transforms\n",
        "from torch.utils.data import Dataset, DataLoader, ConcatDataset\n",
        "import torch.optim as optim\n",
        "import pathlib\n",
        "import shutil\n",
        "from pathlib import Path\n",
        "from collections import Counter\n",
        "!pip install torchsummary\n",
        "from torchsummary import summary\n",
        "from sklearn.utils import shuffle\n",
        "!pip install torchviz\n",
        "from torchviz import make_dot, make_dot_from_trace\n",
        "\n",
        "warnings.filterwarnings('ignore')\n",
        "torch.manual_seed(0)\n"
      ],
      "execution_count": 2,
      "outputs": [
        {
          "output_type": "stream",
          "name": "stdout",
          "text": [
            "Requirement already satisfied: torchsummary in /usr/local/lib/python3.7/dist-packages (1.5.1)\n",
            "Collecting torchviz\n",
            "  Downloading torchviz-0.0.2.tar.gz (4.9 kB)\n",
            "Requirement already satisfied: torch in /usr/local/lib/python3.7/dist-packages (from torchviz) (1.9.0+cu102)\n",
            "Requirement already satisfied: graphviz in /usr/local/lib/python3.7/dist-packages (from torchviz) (0.10.1)\n",
            "Requirement already satisfied: typing-extensions in /usr/local/lib/python3.7/dist-packages (from torch->torchviz) (3.7.4.3)\n",
            "Building wheels for collected packages: torchviz\n",
            "  Building wheel for torchviz (setup.py) ... \u001b[?25l\u001b[?25hdone\n",
            "  Created wheel for torchviz: filename=torchviz-0.0.2-py3-none-any.whl size=4151 sha256=cac3d039330e9f347c4e9be57dd17c7979da5bc9686f9370af46551a9fdef372\n",
            "  Stored in directory: /root/.cache/pip/wheels/04/38/f5/dc4f85c3909051823df49901e72015d2d750bd26b086480ec2\n",
            "Successfully built torchviz\n",
            "Installing collected packages: torchviz\n",
            "Successfully installed torchviz-0.0.2\n"
          ]
        },
        {
          "output_type": "execute_result",
          "data": {
            "text/plain": [
              "<torch._C.Generator at 0x7fd91dad4df0>"
            ]
          },
          "metadata": {},
          "execution_count": 2
        }
      ]
    },
    {
      "cell_type": "code",
      "metadata": {
        "id": "ap7woRG5V_0_",
        "colab": {
          "base_uri": "https://localhost:8080/"
        },
        "outputId": "74439750-793e-443d-b930-2aebec471b37"
      },
      "source": [
        "df = pd.read_csv('/content/Dataset 1.csv',encoding='unicode_escape')\n",
        "df.columns"
      ],
      "execution_count": 3,
      "outputs": [
        {
          "output_type": "execute_result",
          "data": {
            "text/plain": [
              "Index(['message', 'label'], dtype='object')"
            ]
          },
          "metadata": {},
          "execution_count": 3
        }
      ]
    },
    {
      "cell_type": "code",
      "metadata": {
        "id": "aKCq-iV2WH71",
        "colab": {
          "base_uri": "https://localhost:8080/"
        },
        "outputId": "cdbbb71a-0d08-44d2-e07a-12b114d7b797"
      },
      "source": [
        "df['label'].value_counts()"
      ],
      "execution_count": 4,
      "outputs": [
        {
          "output_type": "execute_result",
          "data": {
            "text/plain": [
              "0    8000\n",
              "1    2314\n",
              "Name: label, dtype: int64"
            ]
          },
          "metadata": {},
          "execution_count": 4
        }
      ]
    },
    {
      "cell_type": "code",
      "metadata": {
        "id": "hIcgY3gSWPxW"
      },
      "source": [
        "## split dataset based on the class\n",
        "traning_split_size = 0.8\n",
        "df_class_1 = df[df['label'] == 1]\n",
        "df_class_0 = df[df['label'] == 0]\n",
        "\n",
        "trainSize = int(len(df_class_0) * traning_split_size)\n",
        "Traning_class_0 = df_class_0[:trainSize]\n",
        "Test_class_0 = df_class_0[trainSize:]\n",
        "\n",
        "trainSize = int(len(df_class_1) * traning_split_size)\n",
        "Traning_class_1 = df_class_1[:trainSize]\n",
        "Test_class_1 = df_class_1[trainSize:]"
      ],
      "execution_count": 5,
      "outputs": []
    },
    {
      "cell_type": "code",
      "metadata": {
        "id": "XW-kyltyaPLG",
        "colab": {
          "base_uri": "https://localhost:8080/",
          "height": 419
        },
        "outputId": "73f4ca3b-60da-4b9d-b849-04f3abbdabfa"
      },
      "source": [
        "li = [Traning_class_0,Traning_class_1]\n",
        "frame = pd.concat(li, axis=0, ignore_index=True)\n",
        "frame = shuffle(frame)\n",
        "frame.reset_index(inplace=True, drop=True)\n",
        "frame.to_csv('Train-Dataset.csv',index=False)\n",
        "frame"
      ],
      "execution_count": 6,
      "outputs": [
        {
          "output_type": "execute_result",
          "data": {
            "text/html": [
              "<div>\n",
              "<style scoped>\n",
              "    .dataframe tbody tr th:only-of-type {\n",
              "        vertical-align: middle;\n",
              "    }\n",
              "\n",
              "    .dataframe tbody tr th {\n",
              "        vertical-align: top;\n",
              "    }\n",
              "\n",
              "    .dataframe thead th {\n",
              "        text-align: right;\n",
              "    }\n",
              "</style>\n",
              "<table border=\"1\" class=\"dataframe\">\n",
              "  <thead>\n",
              "    <tr style=\"text-align: right;\">\n",
              "      <th></th>\n",
              "      <th>message</th>\n",
              "      <th>label</th>\n",
              "    </tr>\n",
              "  </thead>\n",
              "  <tbody>\n",
              "    <tr>\n",
              "      <th>0</th>\n",
              "      <td>@molliemoo now that does not surprise me!!</td>\n",
              "      <td>0</td>\n",
              "    </tr>\n",
              "    <tr>\n",
              "      <th>1</th>\n",
              "      <td>@dhlawrencexvii go for it.  If it improves qua...</td>\n",
              "      <td>0</td>\n",
              "    </tr>\n",
              "    <tr>\n",
              "      <th>2</th>\n",
              "      <td>@exoticmaya Yeah, go on sexy!</td>\n",
              "      <td>0</td>\n",
              "    </tr>\n",
              "    <tr>\n",
              "      <th>3</th>\n",
              "      <td>I'm 90% sure the girls at work don't like me a...</td>\n",
              "      <td>1</td>\n",
              "    </tr>\n",
              "    <tr>\n",
              "      <th>4</th>\n",
              "      <td>@stabotage I'm all for sharing.</td>\n",
              "      <td>0</td>\n",
              "    </tr>\n",
              "    <tr>\n",
              "      <th>...</th>\n",
              "      <td>...</td>\n",
              "      <td>...</td>\n",
              "    </tr>\n",
              "    <tr>\n",
              "      <th>8246</th>\n",
              "      <td>Rise and shine my twitters! Going to feed the ...</td>\n",
              "      <td>0</td>\n",
              "    </tr>\n",
              "    <tr>\n",
              "      <th>8247</th>\n",
              "      <td>@joliechose I just sent one!I love when I see ...</td>\n",
              "      <td>0</td>\n",
              "    </tr>\n",
              "    <tr>\n",
              "      <th>8248</th>\n",
              "      <td>only has to pass one more assignment before fi...</td>\n",
              "      <td>0</td>\n",
              "    </tr>\n",
              "    <tr>\n",
              "      <th>8249</th>\n",
              "      <td>Happy bday mom and Tommy!</td>\n",
              "      <td>0</td>\n",
              "    </tr>\n",
              "    <tr>\n",
              "      <th>8250</th>\n",
              "      <td>@jjooss aww, thank you soo much! I'm going out...</td>\n",
              "      <td>0</td>\n",
              "    </tr>\n",
              "  </tbody>\n",
              "</table>\n",
              "<p>8251 rows × 2 columns</p>\n",
              "</div>"
            ],
            "text/plain": [
              "                                                message  label\n",
              "0           @molliemoo now that does not surprise me!!       0\n",
              "1     @dhlawrencexvii go for it.  If it improves qua...      0\n",
              "2                        @exoticmaya Yeah, go on sexy!       0\n",
              "3     I'm 90% sure the girls at work don't like me a...      1\n",
              "4                      @stabotage I'm all for sharing.       0\n",
              "...                                                 ...    ...\n",
              "8246  Rise and shine my twitters! Going to feed the ...      0\n",
              "8247  @joliechose I just sent one!I love when I see ...      0\n",
              "8248  only has to pass one more assignment before fi...      0\n",
              "8249                         Happy bday mom and Tommy!       0\n",
              "8250  @jjooss aww, thank you soo much! I'm going out...      0\n",
              "\n",
              "[8251 rows x 2 columns]"
            ]
          },
          "metadata": {},
          "execution_count": 6
        }
      ]
    },
    {
      "cell_type": "code",
      "metadata": {
        "id": "ttq4y96ZaSDr",
        "colab": {
          "base_uri": "https://localhost:8080/",
          "height": 419
        },
        "outputId": "075f8457-3d23-4bb0-b857-02ac29101e8f"
      },
      "source": [
        "li = [Test_class_0,Test_class_1]\n",
        "frame = pd.concat(li, axis=0, ignore_index=True)\n",
        "frame = shuffle(frame)\n",
        "frame.reset_index(inplace=True, drop=True)\n",
        "frame.to_csv('Test-Dataset.csv',index=False)\n",
        "frame"
      ],
      "execution_count": 7,
      "outputs": [
        {
          "output_type": "execute_result",
          "data": {
            "text/html": [
              "<div>\n",
              "<style scoped>\n",
              "    .dataframe tbody tr th:only-of-type {\n",
              "        vertical-align: middle;\n",
              "    }\n",
              "\n",
              "    .dataframe tbody tr th {\n",
              "        vertical-align: top;\n",
              "    }\n",
              "\n",
              "    .dataframe thead th {\n",
              "        text-align: right;\n",
              "    }\n",
              "</style>\n",
              "<table border=\"1\" class=\"dataframe\">\n",
              "  <thead>\n",
              "    <tr style=\"text-align: right;\">\n",
              "      <th></th>\n",
              "      <th>message</th>\n",
              "      <th>label</th>\n",
              "    </tr>\n",
              "  </thead>\n",
              "  <tbody>\n",
              "    <tr>\n",
              "      <th>0</th>\n",
              "      <td>2 am suddenly having not good feels ok.bmp bec...</td>\n",
              "      <td>1</td>\n",
              "    </tr>\n",
              "    <tr>\n",
              "      <th>1</th>\n",
              "      <td>In dorking looking at houses</td>\n",
              "      <td>0</td>\n",
              "    </tr>\n",
              "    <tr>\n",
              "      <th>2</th>\n",
              "      <td>@zamnzaddy66 My depression has depression</td>\n",
              "      <td>1</td>\n",
              "    </tr>\n",
              "    <tr>\n",
              "      <th>3</th>\n",
              "      <td>Cats and Dogs FTW (Y) The dogs are soooo cute</td>\n",
              "      <td>0</td>\n",
              "    </tr>\n",
              "    <tr>\n",
              "      <th>4</th>\n",
              "      <td>should be asleep. but im listening to the hist</td>\n",
              "      <td>0</td>\n",
              "    </tr>\n",
              "    <tr>\n",
              "      <th>...</th>\n",
              "      <td>...</td>\n",
              "      <td>...</td>\n",
              "    </tr>\n",
              "    <tr>\n",
              "      <th>2058</th>\n",
              "      <td>Pebbles was afraid of the Thunder and Lightnin...</td>\n",
              "      <td>0</td>\n",
              "    </tr>\n",
              "    <tr>\n",
              "      <th>2059</th>\n",
              "      <td>#Ã«Â°ÂÃ«Â´ÂÃ¬Â ÂÃ«Â°ÂÃ«ÂÂ´Ã«Â²ÂÃ«Â Â¤Ã«Â...</td>\n",
              "      <td>1</td>\n",
              "    </tr>\n",
              "    <tr>\n",
              "      <th>2060</th>\n",
              "      <td>indo pras festas   CLASS OF 2009  I LOVE YOU</td>\n",
              "      <td>0</td>\n",
              "    </tr>\n",
              "    <tr>\n",
              "      <th>2061</th>\n",
              "      <td>#Valdoxan 25mg is highly recommended medicine ...</td>\n",
              "      <td>1</td>\n",
              "    </tr>\n",
              "    <tr>\n",
              "      <th>2062</th>\n",
              "      <td>morning everyone!!  sat with dye in my hair so...</td>\n",
              "      <td>0</td>\n",
              "    </tr>\n",
              "  </tbody>\n",
              "</table>\n",
              "<p>2063 rows × 2 columns</p>\n",
              "</div>"
            ],
            "text/plain": [
              "                                                message  label\n",
              "0     2 am suddenly having not good feels ok.bmp bec...      1\n",
              "1                         In dorking looking at houses       0\n",
              "2             @zamnzaddy66 My depression has depression      1\n",
              "3        Cats and Dogs FTW (Y) The dogs are soooo cute       0\n",
              "4       should be asleep. but im listening to the hist       0\n",
              "...                                                 ...    ...\n",
              "2058  Pebbles was afraid of the Thunder and Lightnin...      0\n",
              "2059  #Ã«Â°ÂÃ«Â´ÂÃ¬Â ÂÃ«Â°ÂÃ«ÂÂ´Ã«Â²ÂÃ«Â Â¤Ã«Â...      1\n",
              "2060       indo pras festas   CLASS OF 2009  I LOVE YOU      0\n",
              "2061  #Valdoxan 25mg is highly recommended medicine ...      1\n",
              "2062  morning everyone!!  sat with dye in my hair so...      0\n",
              "\n",
              "[2063 rows x 2 columns]"
            ]
          },
          "metadata": {},
          "execution_count": 7
        }
      ]
    },
    {
      "cell_type": "code",
      "metadata": {
        "id": "KJNjOQG7aUru",
        "colab": {
          "base_uri": "https://localhost:8080/"
        },
        "outputId": "9e497283-c576-4761-ca44-011b6917c588"
      },
      "source": [
        "import matplotlib.pyplot as plt\n",
        "import warnings\n",
        "import time,sys,re,string\n",
        "import copy\n",
        "\n",
        "import pandas as pd\n",
        "import numpy as np\n",
        "import cv2\n",
        "import os\n",
        "import pathlib\n",
        "import zipfile\n",
        "import torch\n",
        "import torchvision\n",
        "from torchvision import models\n",
        "import torchvision.transforms as transforms\n",
        "from torch.utils.data import Dataset, DataLoader, ConcatDataset\n",
        "\n",
        "import torch.optim as optim\n",
        "import pathlib\n",
        "import shutil\n",
        "from pathlib import Path\n",
        "from collections import Counter\n",
        "!pip install torchsummary\n",
        "from torchsummary import summary\n",
        "from sklearn.utils import shuffle\n",
        "!pip install torchviz\n",
        "from torchviz import make_dot, make_dot_from_trace\n",
        "try:\n",
        "  import contractions\n",
        "except:\n",
        "  !pip install contractions\n",
        "import contractions\n",
        "from torchtext.legacy.data import Field, TabularDataset, BucketIterator\n",
        "from torchtext.data.utils import get_tokenizer\n",
        "from torchtext.vocab import build_vocab_from_iterator, Vectors, GloVe\n",
        "\n",
        "import nltk\n",
        "try:\n",
        "    nltk.data.find('tokenizers/punkt')\n",
        "    nltk.data.find('averaged_perceptron_tagger')\n",
        "    nltk.data.find('brown')\n",
        "except LookupError:\n",
        "    nltk.download('averaged_perceptron_tagger')\n",
        "    nltk.download('brown')\n",
        "    nltk.download('punkt')\n",
        "from nltk import sent_tokenize,word_tokenize\n",
        "\n",
        "\n",
        "warnings.filterwarnings('ignore')\n",
        "torch.manual_seed(0)"
      ],
      "execution_count": 8,
      "outputs": [
        {
          "output_type": "stream",
          "name": "stdout",
          "text": [
            "Requirement already satisfied: torchsummary in /usr/local/lib/python3.7/dist-packages (1.5.1)\n",
            "Requirement already satisfied: torchviz in /usr/local/lib/python3.7/dist-packages (0.0.2)\n",
            "Requirement already satisfied: graphviz in /usr/local/lib/python3.7/dist-packages (from torchviz) (0.10.1)\n",
            "Requirement already satisfied: torch in /usr/local/lib/python3.7/dist-packages (from torchviz) (1.9.0+cu102)\n",
            "Requirement already satisfied: typing-extensions in /usr/local/lib/python3.7/dist-packages (from torch->torchviz) (3.7.4.3)\n",
            "Collecting contractions\n",
            "  Downloading contractions-0.0.52-py2.py3-none-any.whl (7.2 kB)\n",
            "Collecting textsearch>=0.0.21\n",
            "  Downloading textsearch-0.0.21-py2.py3-none-any.whl (7.5 kB)\n",
            "Collecting anyascii\n",
            "  Downloading anyascii-0.3.0-py3-none-any.whl (284 kB)\n",
            "\u001b[K     |████████████████████████████████| 284 kB 3.4 MB/s \n",
            "\u001b[?25hCollecting pyahocorasick\n",
            "  Downloading pyahocorasick-1.4.2.tar.gz (321 kB)\n",
            "\u001b[K     |████████████████████████████████| 321 kB 40.0 MB/s \n",
            "\u001b[?25hBuilding wheels for collected packages: pyahocorasick\n",
            "  Building wheel for pyahocorasick (setup.py) ... \u001b[?25l\u001b[?25hdone\n",
            "  Created wheel for pyahocorasick: filename=pyahocorasick-1.4.2-cp37-cp37m-linux_x86_64.whl size=85456 sha256=556df8fef707872ee6053012adcedba11b5cb7e836f4d76dd6a551861758b4db\n",
            "  Stored in directory: /root/.cache/pip/wheels/25/19/a6/8f363d9939162782bb8439d886469756271abc01f76fbd790f\n",
            "Successfully built pyahocorasick\n",
            "Installing collected packages: pyahocorasick, anyascii, textsearch, contractions\n",
            "Successfully installed anyascii-0.3.0 contractions-0.0.52 pyahocorasick-1.4.2 textsearch-0.0.21\n",
            "[nltk_data] Downloading package averaged_perceptron_tagger to\n",
            "[nltk_data]     /root/nltk_data...\n",
            "[nltk_data]   Unzipping taggers/averaged_perceptron_tagger.zip.\n",
            "[nltk_data] Downloading package brown to /root/nltk_data...\n",
            "[nltk_data]   Unzipping corpora/brown.zip.\n",
            "[nltk_data] Downloading package punkt to /root/nltk_data...\n",
            "[nltk_data]   Unzipping tokenizers/punkt.zip.\n"
          ]
        },
        {
          "output_type": "execute_result",
          "data": {
            "text/plain": [
              "<torch._C.Generator at 0x7fd91dad4df0>"
            ]
          },
          "metadata": {},
          "execution_count": 8
        }
      ]
    },
    {
      "cell_type": "code",
      "metadata": {
        "id": "rH3wGDRbaYqm"
      },
      "source": [
        "traning_df = pd.read_csv('/content/Train-Dataset.csv')\n",
        "testing_df = pd.read_csv('/content/Test-Dataset.csv')"
      ],
      "execution_count": 9,
      "outputs": []
    },
    {
      "cell_type": "code",
      "metadata": {
        "id": "ULSe-bk6ajav"
      },
      "source": [
        "def clean_text(text):\n",
        "    '''Make text lowercase, remove text in square brackets,remove links,remove punctuation\n",
        "    and remove words containing numbers. removibng miltiple full stop'''\n",
        "    text = str(text).lower()\n",
        "    text = re.sub('\\[.*?\\]', '', text)\n",
        "    text = re.sub('https?://\\S+|www\\.\\S+', '', text)\n",
        "    text = re.sub('<.*?>+', '', text)\n",
        "    text = re.sub('[%s]' % re.escape(string.punctuation), '', text)\n",
        "    text = re.sub('\\n', '', text)\n",
        "    text = re.sub('\\w*\\d\\w*', '', text)\n",
        "    text = re.sub(r'\\.+', \".\", text)\n",
        "    return text\n",
        "\n",
        "def replace_text(text):\n",
        "    text = str(text).lower()\n",
        "    text = text.encode('ascii', 'ignore').decode('utf-8') \n",
        "    return text  \n",
        "\n",
        "\n",
        "for dta in [traning_df,testing_df]:\n",
        "  dta['text_cleaning'] = dta['message'].apply(lambda x: x.strip().lower() )\n",
        "  dta['text_cleaning'] = dta.text_cleaning.apply(lambda x : \" \".join(x.split()) )\n",
        "  dta['text_cleaning'] = dta.text_cleaning.apply(lambda x: contractions.fix(x) )\n",
        "  dta['text_cleaning'] = dta.text_cleaning.apply(lambda x: clean_text(x) )\n",
        "  dta['text_cleaning'] = dta.text_cleaning.apply(lambda x: replace_text(x) )\n",
        "  dta['number_of_word'] = dta.text_cleaning.apply(lambda x: len(word_tokenize(x)) )\n",
        "  dta['number_of_letter'] = dta.text_cleaning.apply(lambda x: len(x) )\n",
        "  del dta['message']\n",
        "  dta['message'] = dta['text_cleaning'] \n",
        "  del dta['text_cleaning']\n",
        "\n",
        "\n",
        "\n",
        "for dta in [traning_df,testing_df]:\n",
        "  word_count_zero = dta[dta['number_of_word'] == 0]\n",
        "  dta.drop(word_count_zero.index,inplace=True)\n",
        "  letter_count_zero = dta[dta['number_of_letter'] == 0]\n",
        "  dta.drop(letter_count_zero.index,inplace=True)"
      ],
      "execution_count": 10,
      "outputs": []
    },
    {
      "cell_type": "code",
      "metadata": {
        "id": "sN2pZoWha0DS",
        "colab": {
          "base_uri": "https://localhost:8080/"
        },
        "outputId": "45e09f56-4313-46c2-8cb0-5e96c047c470"
      },
      "source": [
        "alltext_length = []\n",
        "allword_length = []\n",
        "for val in traning_df['message']:\n",
        "  word_tok = word_tokenize(val)\n",
        "  alltext_length.append(len(val))\n",
        "  allword_length.append(len(word_tok))\n",
        "\n",
        "print(max(alltext_length))\n",
        "print(max(allword_length))"
      ],
      "execution_count": 11,
      "outputs": [
        {
          "output_type": "stream",
          "name": "stdout",
          "text": [
            "289\n",
            "62\n"
          ]
        }
      ]
    },
    {
      "cell_type": "code",
      "metadata": {
        "id": "5TpR_K2Na68f",
        "colab": {
          "base_uri": "https://localhost:8080/"
        },
        "outputId": "c81d7a10-2f96-4ad2-b878-f5be102c9aac"
      },
      "source": [
        "for val in traning_df['message']:\n",
        "  word_tok = word_tokenize(val)\n",
        "  if len(word_tok) <= 1:\n",
        "    print(val)"
      ],
      "execution_count": 12,
      "outputs": [
        {
          "output_type": "stream",
          "name": "stdout",
          "text": [
            "oneofusisfdup\n",
            "twittermaniaaaaaaaaaaa\n",
            "jonathanrknight\n",
            "depression  \n",
            "spurofmoment\n",
            "ferngully\n",
            "     subway\n",
            "  thirsty\n",
            "depression  \n",
            "katelyniscool   \n",
            "around\n",
            " thanks\n",
            "incoming\n",
            "depression  \n",
            " whaaatever\n",
            "reading\n",
            "realworldmom\n",
            "houseeee\n",
            "shopping\n",
            "quickshooter                \n",
            "llisalang\n",
            "fairyfreia          \n",
            "depression\n",
            " thanks\n",
            "beeeeeeed\n",
            "lonlonraanch\n",
            "remysoon\n",
            " thanks\n",
            "radiogrinch \n",
            "depression  \n",
            " thanks\n",
            "may    \n",
            "depression  \n",
            "makemescream\n",
            "comeagainjen   \n",
            "name\n",
            "shaundiviney\n",
            "  updates\n",
            " yup\n",
            " with \n",
            "name\n",
            "picture\n",
            "party \n",
            "depression  \n",
            "scarych         \n",
            " sorite\n"
          ]
        }
      ]
    },
    {
      "cell_type": "code",
      "metadata": {
        "id": "RjDQPX1aa-qy"
      },
      "source": [
        "traning_df.to_csv('/content/Train-Dataset-prcessed.csv',index=False)\n",
        "testing_df.to_csv('/content/Test-Dataset-prcessed.csv',index=False)"
      ],
      "execution_count": 13,
      "outputs": []
    },
    {
      "cell_type": "code",
      "metadata": {
        "id": "ivuwXO7zbCQ3"
      },
      "source": [
        "traning_df = pd.read_csv('/content/Train-Dataset-prcessed.csv')\n",
        "testing_df = pd.read_csv('/content/Test-Dataset-prcessed.csv')"
      ],
      "execution_count": 14,
      "outputs": []
    },
    {
      "cell_type": "code",
      "metadata": {
        "id": "yL_8C8x3bFtd"
      },
      "source": [
        "label_field = Field(sequential=False, use_vocab=False, batch_first=True, dtype=torch.float)\n",
        "text_field = Field(tokenize='spacy', lower=True, include_lengths=True, batch_first=True)\n",
        "fields = [('polarity', label_field),  ('text', text_field)]\n",
        "\n",
        "\n",
        "train_data = TabularDataset(path=\"/content/Train-Dataset-prcessed.csv\",\n",
        "                                 format=\"csv\",\n",
        "                                  fields=fields,\n",
        "                                 skip_header=True)\n",
        "\n",
        "valid_data = TabularDataset(path=\"/content/Test-Dataset-prcessed.csv\",\n",
        "                                 format=\"csv\",\n",
        "                                  fields=fields,\n",
        "                                 skip_header=True)\n",
        "\n",
        "device = torch.device(\"cuda\" if torch.cuda.is_available() else \"cpu\")\n",
        "\n",
        "train_iter = BucketIterator(train_data, batch_size=32, sort_key=lambda x: len(x.text),\n",
        "                            device=device, sort=True, sort_within_batch=True)\n",
        "valid_iter = BucketIterator(valid_data, batch_size=32, sort_key=lambda x: len(x.text),\n",
        "                            device=device, sort=True, sort_within_batch=True)\n",
        "\n",
        "\n",
        "text_field.build_vocab(train_data,) # min_freq=3,vectors = \"glove.6B.100d\"\n",
        "label_field.build_vocab(train_data)"
      ],
      "execution_count": 15,
      "outputs": []
    },
    {
      "cell_type": "code",
      "metadata": {
        "id": "KLZsT0xybMAG",
        "colab": {
          "base_uri": "https://localhost:8080/"
        },
        "outputId": "888888bf-4b4e-42f2-af49-a27c5a42554f"
      },
      "source": [
        "#No. of unique tokens in text\n",
        "print(\"Size of TEXT vocabulary:\",len(text_field.vocab))\n",
        "\n",
        "#No. of unique tokens in label\n",
        "print(\"Size of LABEL vocabulary:\",len(label_field.vocab))\n",
        "\n",
        "#Commonly used words\n",
        "print(text_field.vocab.freqs.most_common(10))  \n",
        "\n",
        "#Word dictionary\n",
        "print(text_field.vocab.stoi)   "
      ],
      "execution_count": 16,
      "outputs": [
        {
          "output_type": "stream",
          "name": "stdout",
          "text": [
            "Size of TEXT vocabulary: 64\n",
            "Size of LABEL vocabulary: 3\n",
            "[('8', 459), ('6', 446), ('7', 427), ('5', 407), ('9', 407), ('13', 379), ('10', 376), ('11', 369), ('12', 359), ('4', 329)]\n",
            "defaultdict(<bound method Vocab._default_unk_index of <torchtext.legacy.vocab.Vocab object at 0x7fd8ff1a5290>>, {'<unk>': 0, '<pad>': 1, '8': 2, '6': 3, '7': 4, '5': 5, '9': 6, '13': 7, '10': 8, '11': 9, '12': 10, '4': 11, '15': 12, '14': 13, '16': 14, '18': 15, '17': 16, '3': 17, '19': 18, '21': 19, '20': 20, '23': 21, '22': 22, '24': 23, '2': 24, '25': 25, '26': 26, '27': 27, '29': 28, '28': 29, '1': 30, '30': 31, '32': 32, '31': 33, '36': 34, '38': 35, '39': 36, '45': 37, '41': 38, '33': 39, '34': 40, '42': 41, '43': 42, '48': 43, '49': 44, '44': 45, '47': 46, '46': 47, '37': 48, '40': 49, '35': 50, '50': 51, '52': 52, '51': 53, '53': 54, '54': 55, '55': 56, '56': 57, '58': 58, '61': 59, '57': 60, '59': 61, '60': 62, '62': 63})\n"
          ]
        }
      ]
    },
    {
      "cell_type": "code",
      "metadata": {
        "id": "Zq4zSAdNbdoK"
      },
      "source": [
        "class CNN(torch.nn.Module): \n",
        "    def __init__(self , vocab_size, embedding_dim, hidden_dim, output_dim, n_layers, \n",
        "                 bidirectional, dropout, pad_idx):\n",
        "        super(CNN, self).__init__()\n",
        "\n",
        "        self.embedding = torch.nn.Embedding(vocab_size, embedding_dim, padding_idx = pad_idx)\n",
        "\n",
        "        #initializing convolution layer\n",
        "        self.conv1 = torch.nn.Conv2d(in_channels=1, out_channels=16, kernel_size=3)\n",
        "        self.conv2 = torch.nn.Conv2d(in_channels=16, out_channels=32, kernel_size=3)\n",
        "        self.conv3 = torch.nn.Conv2d(in_channels=32, out_channels=64, kernel_size=1)\n",
        "\n",
        "        #initializing dropout \n",
        "        self.dropout = torch.nn.Dropout(0.2)\n",
        "\n",
        "        #initializing MaxPool2d \n",
        "        self.pool= torch.nn.MaxPool2d(2,2)\n",
        " \n",
        "        #initializing linear\n",
        "        self.fc1 = torch.nn.Linear(64* 1* 1, 512)\n",
        "        self.fc2 = torch.nn.Linear(512,64)\n",
        "        self.fc3 = torch.nn.Linear(64,output_dim)\n",
        "\n",
        " \n",
        "    def forward(self, text):\n",
        "        embedded = self.embedding(text)\n",
        "        x = embedded.view(-1,1,16,16) \n",
        "        x = self.pool(torch.nn.functional.relu(self.conv1(x)))\n",
        "        x = self.dropout(x)\n",
        "        x = self.pool(torch.nn.functional.relu(self.conv2(x))) \n",
        "        x = self.dropout(x)\n",
        "        x = self.pool(torch.nn.functional.relu(self.conv3(x))) \n",
        "        x = x.view(-1, 64* 1* 1) \n",
        "        # x = self.pool(torch.nn.functional.relu(x)) \n",
        "        # x = x.view(-1, 32* 1* 1) \n",
        "        x = torch.nn.functional.relu(self.fc1(x))\n",
        "        x = torch.nn.functional.relu(self.fc2(x))\n",
        "        x = self.fc3(x)\n",
        "        return x\n"
      ],
      "execution_count": 17,
      "outputs": []
    },
    {
      "cell_type": "code",
      "metadata": {
        "id": "Lig2QhDbbfAn"
      },
      "source": [
        "# Hyperparameters\n",
        "num_epochs = 100\n",
        "learning_rate = 0.0001\n",
        "\n",
        "INPUT_DIM = len(text_field.vocab)\n",
        "EMBEDDING_DIM = 256\n",
        "HIDDEN_DIM = 256\n",
        "OUTPUT_DIM = 1\n",
        "N_LAYERS = 2\n",
        "BIDIRECTIONAL = True\n",
        "DROPOUT = 0.2\n",
        "PAD_IDX = text_field.vocab.stoi[text_field.pad_token] # padding"
      ],
      "execution_count": 18,
      "outputs": []
    },
    {
      "cell_type": "code",
      "metadata": {
        "id": "IPXNlTnkbs-5",
        "colab": {
          "base_uri": "https://localhost:8080/"
        },
        "outputId": "daaae8f5-1c20-40a6-bb09-13fb1ace21c1"
      },
      "source": [
        "!pip install torchinfo"
      ],
      "execution_count": 19,
      "outputs": [
        {
          "output_type": "stream",
          "name": "stdout",
          "text": [
            "Collecting torchinfo\n",
            "  Downloading torchinfo-1.5.3-py3-none-any.whl (19 kB)\n",
            "Installing collected packages: torchinfo\n",
            "Successfully installed torchinfo-1.5.3\n"
          ]
        }
      ]
    },
    {
      "cell_type": "code",
      "metadata": {
        "id": "PyGersNNbhFE",
        "colab": {
          "base_uri": "https://localhost:8080/"
        },
        "outputId": "824f3840-a819-41c4-ba40-ec93e7ee4007"
      },
      "source": [
        "model = CNN(INPUT_DIM, \n",
        "            EMBEDDING_DIM, \n",
        "            HIDDEN_DIM, \n",
        "            OUTPUT_DIM, \n",
        "            N_LAYERS, \n",
        "            BIDIRECTIONAL, \n",
        "            DROPOUT, \n",
        "            PAD_IDX).to(device)\n",
        "\n",
        "from torchinfo import summary\n",
        "summary( model, input_size=(1, 10),dtypes=[torch.long],)"
      ],
      "execution_count": 20,
      "outputs": [
        {
          "output_type": "execute_result",
          "data": {
            "text/plain": [
              "==========================================================================================\n",
              "Layer (type:depth-idx)                   Output Shape              Param #\n",
              "==========================================================================================\n",
              "CNN                                      --                        --\n",
              "├─Embedding: 1-1                         [1, 10, 256]              16,384\n",
              "├─Conv2d: 1-2                            [10, 16, 14, 14]          160\n",
              "├─MaxPool2d: 1-3                         [10, 16, 7, 7]            --\n",
              "├─Dropout: 1-4                           [10, 16, 7, 7]            --\n",
              "├─Conv2d: 1-5                            [10, 32, 5, 5]            4,640\n",
              "├─MaxPool2d: 1-6                         [10, 32, 2, 2]            --\n",
              "├─Dropout: 1-7                           [10, 32, 2, 2]            --\n",
              "├─Conv2d: 1-8                            [10, 64, 2, 2]            2,112\n",
              "├─MaxPool2d: 1-9                         [10, 64, 1, 1]            --\n",
              "├─Linear: 1-10                           [10, 512]                 33,280\n",
              "├─Linear: 1-11                           [10, 64]                  32,832\n",
              "├─Linear: 1-12                           [10, 1]                   65\n",
              "==========================================================================================\n",
              "Total params: 89,473\n",
              "Trainable params: 89,473\n",
              "Non-trainable params: 0\n",
              "Total mult-adds (M): 2.24\n",
              "==========================================================================================\n",
              "Input size (MB): 0.00\n",
              "Forward/backward pass size (MB): 0.40\n",
              "Params size (MB): 0.36\n",
              "Estimated Total Size (MB): 0.76\n",
              "=========================================================================================="
            ]
          },
          "metadata": {},
          "execution_count": 20
        }
      ]
    },
    {
      "cell_type": "code",
      "metadata": {
        "id": "pEza9nc8b4_U"
      },
      "source": [
        "model.to(device)\n",
        "\n",
        "# Loss and optimizer\n",
        "criterion = torch.nn.BCEWithLogitsLoss()\n",
        "\n",
        "optimizer = torch.optim.Adam(model.parameters(), lr=learning_rate)"
      ],
      "execution_count": 21,
      "outputs": []
    },
    {
      "cell_type": "code",
      "metadata": {
        "id": "KaiFwbJNb55v"
      },
      "source": [
        "def binary_accuracy(preds, y):\n",
        "\n",
        "    rounded_preds = torch.round(torch.sigmoid(preds))\n",
        "    correct = (rounded_preds == y).float() \n",
        "    acc = correct.sum() / len(correct)\n",
        "    return acc"
      ],
      "execution_count": 22,
      "outputs": []
    },
    {
      "cell_type": "code",
      "metadata": {
        "id": "D-TtD97ab9uS"
      },
      "source": [
        "# training function \n",
        "def train(model, iterator):\n",
        "    \n",
        "    epoch_loss = 0\n",
        "    epoch_acc = 0\n",
        "    \n",
        "    model.train()\n",
        "    \n",
        "    for i,batch in enumerate( iterator,1):\n",
        "        text, text_lengths = batch.text\n",
        "        \n",
        "        optimizer.zero_grad()\n",
        "        predictions = model(text).squeeze(1)\n",
        "        \n",
        "        loss = criterion(predictions, batch.polarity)\n",
        "        acc = binary_accuracy(predictions, batch.polarity)\n",
        "\n",
        "        loss.backward()\n",
        "        optimizer.step()\n",
        "        \n",
        "        epoch_loss += loss.item()\n",
        "        epoch_acc += acc.item()\n",
        "\n",
        "        print_val = f\"running_loss : {(loss.item()):.6f}\\t\"\n",
        "        print_val += f\"running_corrects : {acc.item():.6f}\\t\"  \n",
        "        sys.stdout.write('\\r' + str(print_val))\n",
        "        \n",
        "\n",
        "    return epoch_loss / len(iterator), epoch_acc / len(iterator)"
      ],
      "execution_count": 23,
      "outputs": []
    },
    {
      "cell_type": "code",
      "metadata": {
        "id": "Fv0eU1dDb_k0"
      },
      "source": [
        "def evaluate(model, iterator):\n",
        "    \n",
        "    epoch_loss = 0\n",
        "    epoch_acc = 0\n",
        "    model.eval()\n",
        "    \n",
        "    with torch.no_grad():\n",
        "        for batch in iterator:\n",
        "            text, text_lengths = batch.text\n",
        "            predictions = model(text,).squeeze(1)\n",
        "            loss = criterion(predictions, batch.polarity)\n",
        "            acc = binary_accuracy(predictions, batch.polarity)\n",
        "            \n",
        "            epoch_acc += acc.item()\n",
        "            epoch_loss += loss.item()\n",
        "        \n",
        "    return  epoch_loss / len(iterator), epoch_acc / len(iterator) "
      ],
      "execution_count": 24,
      "outputs": []
    },
    {
      "cell_type": "code",
      "metadata": {
        "id": "gQqWMTGQcCot",
        "colab": {
          "base_uri": "https://localhost:8080/"
        },
        "outputId": "2c487465-69bd-4bfc-ce18-01ef656f3a3c"
      },
      "source": [
        "t = time.time()\n",
        "loss=[]\n",
        "acc=[]\n",
        "val_acc=[]\n",
        "val_loss=[]\n",
        "\n",
        "for epoch in range(num_epochs):\n",
        "    \n",
        "    train_loss, train_acc = train(model, train_iter)\n",
        "    valid_loss, valid_acc = evaluate(model, valid_iter)\n",
        "    \n",
        "    print(f'\\tTrain Loss: {train_loss:.3f} | Train Acc: {train_acc*100:.2f}%  | Val. Acc: {valid_acc*100:.2f}%')\n",
        "    # print(f'\\t')\n",
        "    \n",
        "    loss.append(train_loss)\n",
        "    acc.append(train_acc)\n",
        "    val_loss.append(valid_loss)\n",
        "    val_acc.append(valid_acc)\n",
        "    \n",
        "print(f'time:{time.time()-t:.3f}')"
      ],
      "execution_count": 25,
      "outputs": [
        {
          "output_type": "stream",
          "name": "stdout",
          "text": [
            "running_loss : 0.631195\trunning_corrects : 0.700000\t\tTrain Loss: 0.553 | Train Acc: 76.77%  | Val. Acc: 77.38%\n",
            "running_loss : 0.625504\trunning_corrects : 0.700000\t\tTrain Loss: 0.533 | Train Acc: 77.58%  | Val. Acc: 77.38%\n",
            "running_loss : 0.619737\trunning_corrects : 0.700000\t\tTrain Loss: 0.532 | Train Acc: 77.58%  | Val. Acc: 77.38%\n",
            "running_loss : 0.623295\trunning_corrects : 0.700000\t\tTrain Loss: 0.530 | Train Acc: 77.58%  | Val. Acc: 77.38%\n",
            "running_loss : 0.624527\trunning_corrects : 0.700000\t\tTrain Loss: 0.530 | Train Acc: 77.58%  | Val. Acc: 77.38%\n",
            "running_loss : 0.621919\trunning_corrects : 0.700000\t\tTrain Loss: 0.529 | Train Acc: 77.58%  | Val. Acc: 77.38%\n",
            "running_loss : 0.621275\trunning_corrects : 0.700000\t\tTrain Loss: 0.526 | Train Acc: 77.58%  | Val. Acc: 77.38%\n",
            "running_loss : 0.627945\trunning_corrects : 0.700000\t\tTrain Loss: 0.525 | Train Acc: 77.58%  | Val. Acc: 77.38%\n",
            "running_loss : 0.632148\trunning_corrects : 0.700000\t\tTrain Loss: 0.521 | Train Acc: 77.58%  | Val. Acc: 77.38%\n",
            "running_loss : 0.616912\trunning_corrects : 0.700000\t\tTrain Loss: 0.518 | Train Acc: 77.58%  | Val. Acc: 77.38%\n",
            "running_loss : 0.623017\trunning_corrects : 0.700000\t\tTrain Loss: 0.511 | Train Acc: 77.58%  | Val. Acc: 77.38%\n",
            "running_loss : 0.594947\trunning_corrects : 0.700000\t\tTrain Loss: 0.507 | Train Acc: 77.58%  | Val. Acc: 78.00%\n",
            "running_loss : 0.626844\trunning_corrects : 0.700000\t\tTrain Loss: 0.501 | Train Acc: 77.71%  | Val. Acc: 80.74%\n",
            "running_loss : 0.630701\trunning_corrects : 0.750000\t\tTrain Loss: 0.496 | Train Acc: 78.75%  | Val. Acc: 81.56%\n",
            "running_loss : 0.615151\trunning_corrects : 0.700000\t\tTrain Loss: 0.487 | Train Acc: 80.08%  | Val. Acc: 82.33%\n",
            "running_loss : 0.658198\trunning_corrects : 0.700000\t\tTrain Loss: 0.482 | Train Acc: 80.76%  | Val. Acc: 82.33%\n",
            "running_loss : 0.633977\trunning_corrects : 0.750000\t\tTrain Loss: 0.476 | Train Acc: 81.47%  | Val. Acc: 82.33%\n",
            "running_loss : 0.577038\trunning_corrects : 0.750000\t\tTrain Loss: 0.469 | Train Acc: 82.07%  | Val. Acc: 82.76%\n",
            "running_loss : 0.589229\trunning_corrects : 0.750000\t\tTrain Loss: 0.464 | Train Acc: 82.23%  | Val. Acc: 82.71%\n",
            "running_loss : 0.609658\trunning_corrects : 0.750000\t\tTrain Loss: 0.460 | Train Acc: 82.55%  | Val. Acc: 82.71%\n",
            "running_loss : 0.578918\trunning_corrects : 0.750000\t\tTrain Loss: 0.455 | Train Acc: 82.91%  | Val. Acc: 82.71%\n",
            "running_loss : 0.553265\trunning_corrects : 0.750000\t\tTrain Loss: 0.453 | Train Acc: 82.75%  | Val. Acc: 82.71%\n",
            "running_loss : 0.558326\trunning_corrects : 0.750000\t\tTrain Loss: 0.450 | Train Acc: 82.69%  | Val. Acc: 82.71%\n",
            "running_loss : 0.580140\trunning_corrects : 0.750000\t\tTrain Loss: 0.451 | Train Acc: 82.99%  | Val. Acc: 82.47%\n",
            "running_loss : 0.602169\trunning_corrects : 0.750000\t\tTrain Loss: 0.448 | Train Acc: 83.02%  | Val. Acc: 82.71%\n",
            "running_loss : 0.543030\trunning_corrects : 0.750000\t\tTrain Loss: 0.447 | Train Acc: 83.12%  | Val. Acc: 82.71%\n",
            "running_loss : 0.533625\trunning_corrects : 0.750000\t\tTrain Loss: 0.445 | Train Acc: 82.98%  | Val. Acc: 82.47%\n",
            "running_loss : 0.575723\trunning_corrects : 0.750000\t\tTrain Loss: 0.442 | Train Acc: 83.47%  | Val. Acc: 82.71%\n",
            "running_loss : 0.612905\trunning_corrects : 0.750000\t\tTrain Loss: 0.446 | Train Acc: 83.08%  | Val. Acc: 82.76%\n",
            "running_loss : 0.572177\trunning_corrects : 0.750000\t\tTrain Loss: 0.443 | Train Acc: 83.27%  | Val. Acc: 82.76%\n",
            "running_loss : 0.502888\trunning_corrects : 0.800000\t\tTrain Loss: 0.442 | Train Acc: 83.23%  | Val. Acc: 82.71%\n",
            "running_loss : 0.575133\trunning_corrects : 0.750000\t\tTrain Loss: 0.439 | Train Acc: 83.32%  | Val. Acc: 82.71%\n",
            "running_loss : 0.554519\trunning_corrects : 0.750000\t\tTrain Loss: 0.440 | Train Acc: 83.42%  | Val. Acc: 82.71%\n",
            "running_loss : 0.561290\trunning_corrects : 0.750000\t\tTrain Loss: 0.439 | Train Acc: 83.38%  | Val. Acc: 82.71%\n",
            "running_loss : 0.567422\trunning_corrects : 0.750000\t\tTrain Loss: 0.442 | Train Acc: 83.30%  | Val. Acc: 82.76%\n",
            "running_loss : 0.565453\trunning_corrects : 0.750000\t\tTrain Loss: 0.440 | Train Acc: 83.39%  | Val. Acc: 82.71%\n",
            "running_loss : 0.568797\trunning_corrects : 0.750000\t\tTrain Loss: 0.439 | Train Acc: 83.36%  | Val. Acc: 82.71%\n",
            "running_loss : 0.571546\trunning_corrects : 0.750000\t\tTrain Loss: 0.440 | Train Acc: 83.28%  | Val. Acc: 82.71%\n",
            "running_loss : 0.564801\trunning_corrects : 0.750000\t\tTrain Loss: 0.439 | Train Acc: 83.32%  | Val. Acc: 82.47%\n",
            "running_loss : 0.571303\trunning_corrects : 0.750000\t\tTrain Loss: 0.439 | Train Acc: 83.31%  | Val. Acc: 82.76%\n",
            "running_loss : 0.571367\trunning_corrects : 0.750000\t\tTrain Loss: 0.437 | Train Acc: 83.52%  | Val. Acc: 82.76%\n",
            "running_loss : 0.584960\trunning_corrects : 0.750000\t\tTrain Loss: 0.439 | Train Acc: 83.39%  | Val. Acc: 82.76%\n",
            "running_loss : 0.582282\trunning_corrects : 0.750000\t\tTrain Loss: 0.440 | Train Acc: 83.30%  | Val. Acc: 82.76%\n",
            "running_loss : 0.565129\trunning_corrects : 0.750000\t\tTrain Loss: 0.437 | Train Acc: 83.48%  | Val. Acc: 82.76%\n",
            "running_loss : 0.577055\trunning_corrects : 0.750000\t\tTrain Loss: 0.439 | Train Acc: 83.37%  | Val. Acc: 82.71%\n",
            "running_loss : 0.585427\trunning_corrects : 0.750000\t\tTrain Loss: 0.438 | Train Acc: 83.50%  | Val. Acc: 82.71%\n",
            "running_loss : 0.595993\trunning_corrects : 0.750000\t\tTrain Loss: 0.438 | Train Acc: 83.37%  | Val. Acc: 82.76%\n",
            "running_loss : 0.571220\trunning_corrects : 0.750000\t\tTrain Loss: 0.439 | Train Acc: 83.30%  | Val. Acc: 82.71%\n",
            "running_loss : 0.598594\trunning_corrects : 0.750000\t\tTrain Loss: 0.437 | Train Acc: 83.42%  | Val. Acc: 82.76%\n",
            "running_loss : 0.548885\trunning_corrects : 0.750000\t\tTrain Loss: 0.437 | Train Acc: 83.45%  | Val. Acc: 82.76%\n",
            "running_loss : 0.546996\trunning_corrects : 0.750000\t\tTrain Loss: 0.434 | Train Acc: 83.53%  | Val. Acc: 82.76%\n",
            "running_loss : 0.571700\trunning_corrects : 0.750000\t\tTrain Loss: 0.437 | Train Acc: 83.44%  | Val. Acc: 82.76%\n",
            "running_loss : 0.548027\trunning_corrects : 0.750000\t\tTrain Loss: 0.437 | Train Acc: 83.47%  | Val. Acc: 82.76%\n",
            "running_loss : 0.564449\trunning_corrects : 0.750000\t\tTrain Loss: 0.437 | Train Acc: 83.32%  | Val. Acc: 82.76%\n",
            "running_loss : 0.573738\trunning_corrects : 0.750000\t\tTrain Loss: 0.437 | Train Acc: 83.43%  | Val. Acc: 82.76%\n",
            "running_loss : 0.561468\trunning_corrects : 0.750000\t\tTrain Loss: 0.437 | Train Acc: 83.53%  | Val. Acc: 82.76%\n",
            "running_loss : 0.590249\trunning_corrects : 0.750000\t\tTrain Loss: 0.436 | Train Acc: 83.49%  | Val. Acc: 82.76%\n",
            "running_loss : 0.570288\trunning_corrects : 0.750000\t\tTrain Loss: 0.436 | Train Acc: 83.45%  | Val. Acc: 82.76%\n",
            "running_loss : 0.559014\trunning_corrects : 0.750000\t\tTrain Loss: 0.436 | Train Acc: 83.50%  | Val. Acc: 82.76%\n",
            "running_loss : 0.599092\trunning_corrects : 0.750000\t\tTrain Loss: 0.435 | Train Acc: 83.56%  | Val. Acc: 82.76%\n",
            "running_loss : 0.575338\trunning_corrects : 0.750000\t\tTrain Loss: 0.436 | Train Acc: 83.38%  | Val. Acc: 82.76%\n",
            "running_loss : 0.555271\trunning_corrects : 0.750000\t\tTrain Loss: 0.435 | Train Acc: 83.54%  | Val. Acc: 82.76%\n",
            "running_loss : 0.574493\trunning_corrects : 0.750000\t\tTrain Loss: 0.436 | Train Acc: 83.45%  | Val. Acc: 82.76%\n",
            "running_loss : 0.588123\trunning_corrects : 0.750000\t\tTrain Loss: 0.433 | Train Acc: 83.62%  | Val. Acc: 82.76%\n",
            "running_loss : 0.576051\trunning_corrects : 0.750000\t\tTrain Loss: 0.434 | Train Acc: 83.53%  | Val. Acc: 82.76%\n",
            "running_loss : 0.580966\trunning_corrects : 0.750000\t\tTrain Loss: 0.437 | Train Acc: 83.32%  | Val. Acc: 82.76%\n",
            "running_loss : 0.579080\trunning_corrects : 0.750000\t\tTrain Loss: 0.436 | Train Acc: 83.44%  | Val. Acc: 82.76%\n",
            "running_loss : 0.570230\trunning_corrects : 0.750000\t\tTrain Loss: 0.434 | Train Acc: 83.47%  | Val. Acc: 82.76%\n",
            "running_loss : 0.571838\trunning_corrects : 0.750000\t\tTrain Loss: 0.434 | Train Acc: 83.53%  | Val. Acc: 82.76%\n",
            "running_loss : 0.577578\trunning_corrects : 0.750000\t\tTrain Loss: 0.434 | Train Acc: 83.43%  | Val. Acc: 82.76%\n",
            "running_loss : 0.575062\trunning_corrects : 0.750000\t\tTrain Loss: 0.434 | Train Acc: 83.52%  | Val. Acc: 82.76%\n",
            "running_loss : 0.556580\trunning_corrects : 0.750000\t\tTrain Loss: 0.436 | Train Acc: 83.43%  | Val. Acc: 82.76%\n",
            "running_loss : 0.576945\trunning_corrects : 0.750000\t\tTrain Loss: 0.435 | Train Acc: 83.54%  | Val. Acc: 82.76%\n",
            "running_loss : 0.568043\trunning_corrects : 0.750000\t\tTrain Loss: 0.435 | Train Acc: 83.54%  | Val. Acc: 82.76%\n",
            "running_loss : 0.562515\trunning_corrects : 0.750000\t\tTrain Loss: 0.433 | Train Acc: 83.50%  | Val. Acc: 82.76%\n",
            "running_loss : 0.587310\trunning_corrects : 0.750000\t\tTrain Loss: 0.435 | Train Acc: 83.54%  | Val. Acc: 82.76%\n",
            "running_loss : 0.577154\trunning_corrects : 0.750000\t\tTrain Loss: 0.435 | Train Acc: 83.53%  | Val. Acc: 82.76%\n",
            "running_loss : 0.566865\trunning_corrects : 0.750000\t\tTrain Loss: 0.434 | Train Acc: 83.44%  | Val. Acc: 82.76%\n",
            "running_loss : 0.567131\trunning_corrects : 0.750000\t\tTrain Loss: 0.431 | Train Acc: 83.64%  | Val. Acc: 82.76%\n",
            "running_loss : 0.586442\trunning_corrects : 0.750000\t\tTrain Loss: 0.433 | Train Acc: 83.55%  | Val. Acc: 82.76%\n",
            "running_loss : 0.578778\trunning_corrects : 0.750000\t\tTrain Loss: 0.433 | Train Acc: 83.45%  | Val. Acc: 82.76%\n",
            "running_loss : 0.570605\trunning_corrects : 0.750000\t\tTrain Loss: 0.434 | Train Acc: 83.53%  | Val. Acc: 82.76%\n",
            "running_loss : 0.569547\trunning_corrects : 0.750000\t\tTrain Loss: 0.434 | Train Acc: 83.54%  | Val. Acc: 82.76%\n",
            "running_loss : 0.571350\trunning_corrects : 0.750000\t\tTrain Loss: 0.433 | Train Acc: 83.62%  | Val. Acc: 82.76%\n",
            "running_loss : 0.567885\trunning_corrects : 0.750000\t\tTrain Loss: 0.433 | Train Acc: 83.44%  | Val. Acc: 82.76%\n",
            "running_loss : 0.584344\trunning_corrects : 0.750000\t\tTrain Loss: 0.434 | Train Acc: 83.59%  | Val. Acc: 82.76%\n",
            "running_loss : 0.546924\trunning_corrects : 0.750000\t\tTrain Loss: 0.434 | Train Acc: 83.56%  | Val. Acc: 82.76%\n",
            "running_loss : 0.586658\trunning_corrects : 0.750000\t\tTrain Loss: 0.433 | Train Acc: 83.52%  | Val. Acc: 82.76%\n",
            "running_loss : 0.579984\trunning_corrects : 0.750000\t\tTrain Loss: 0.434 | Train Acc: 83.48%  | Val. Acc: 82.76%\n",
            "running_loss : 0.590079\trunning_corrects : 0.750000\t\tTrain Loss: 0.433 | Train Acc: 83.66%  | Val. Acc: 82.76%\n",
            "running_loss : 0.576103\trunning_corrects : 0.750000\t\tTrain Loss: 0.434 | Train Acc: 83.42%  | Val. Acc: 82.76%\n",
            "running_loss : 0.575749\trunning_corrects : 0.750000\t\tTrain Loss: 0.434 | Train Acc: 83.48%  | Val. Acc: 82.76%\n",
            "running_loss : 0.586808\trunning_corrects : 0.750000\t\tTrain Loss: 0.434 | Train Acc: 83.60%  | Val. Acc: 82.86%\n",
            "running_loss : 0.592963\trunning_corrects : 0.750000\t\tTrain Loss: 0.434 | Train Acc: 83.42%  | Val. Acc: 82.76%\n",
            "running_loss : 0.567712\trunning_corrects : 0.750000\t\tTrain Loss: 0.434 | Train Acc: 83.53%  | Val. Acc: 82.76%\n",
            "running_loss : 0.579612\trunning_corrects : 0.750000\t\tTrain Loss: 0.433 | Train Acc: 83.58%  | Val. Acc: 82.76%\n",
            "running_loss : 0.595700\trunning_corrects : 0.750000\t\tTrain Loss: 0.433 | Train Acc: 83.59%  | Val. Acc: 82.76%\n",
            "running_loss : 0.579757\trunning_corrects : 0.750000\t\tTrain Loss: 0.433 | Train Acc: 83.52%  | Val. Acc: 82.76%\n",
            "running_loss : 0.581634\trunning_corrects : 0.750000\t\tTrain Loss: 0.433 | Train Acc: 83.58%  | Val. Acc: 82.76%\n",
            "running_loss : 0.572802\trunning_corrects : 0.750000\t\tTrain Loss: 0.434 | Train Acc: 83.43%  | Val. Acc: 82.76%\n",
            "time:265.319\n"
          ]
        }
      ]
    },
    {
      "cell_type": "code",
      "metadata": {
        "id": "cqgyJWdP7PdD"
      },
      "source": [
        "import glob,sys,os\n",
        "import matplotlib.pyplot as plt\n",
        "import warnings\n",
        "import numpy as np\n",
        "import seaborn as sn\n",
        "import pandas as pd\n",
        "import pathlib\n",
        "import zipfile\n",
        "import torch\n",
        "import torch.nn as nn\n",
        "import torchvision\n",
        "import torchvision.transforms as transforms\n",
        "from torchvision import models\n",
        "from torch.utils.data import Dataset, DataLoader, ConcatDataset\n",
        "import torch.optim as optim\n",
        "import time,sys\n",
        "import copy\n",
        "from sklearn.metrics import confusion_matrix\n",
        "from sklearn.metrics import classification_report\n",
        "\n",
        "warnings.filterwarnings('ignore')"
      ],
      "execution_count": 26,
      "outputs": []
    },
    {
      "cell_type": "code",
      "metadata": {
        "id": "G5W_0cQx7Q_2"
      },
      "source": [
        "_tranning_loss = loss\n",
        "_tranning_acc = acc\n",
        "_validation_loss = val_loss\n",
        "_validation_acc = val_acc"
      ],
      "execution_count": 27,
      "outputs": []
    },
    {
      "cell_type": "code",
      "metadata": {
        "id": "0_3ze6_x7S1w",
        "colab": {
          "base_uri": "https://localhost:8080/",
          "height": 350
        },
        "outputId": "1203a497-61da-4ef4-ae6d-f896659a654d"
      },
      "source": [
        "plt.figure(figsize=(10,5))\n",
        "plt.title(\"Loss graph\")\n",
        "plt.plot(_tranning_loss,label=\"Tranning Loss\")\n",
        "plt.plot(_validation_loss,label=\"Validation Loss\")\n",
        "plt.xlabel(\"iterations\")\n",
        "plt.ylabel(\"Loss\")\n",
        "plt.legend()\n",
        "plt.show()"
      ],
      "execution_count": 28,
      "outputs": [
        {
          "output_type": "display_data",
          "data": {
            "image/png": "[encoded data removed]",
            "text/plain": [
              "<Figure size 720x360 with 1 Axes>"
            ]
          },
          "metadata": {
            "needs_background": "light"
          }
        }
      ]
    },
    {
      "cell_type": "code",
      "metadata": {
        "id": "0r4Uht3n7VPp",
        "colab": {
          "base_uri": "https://localhost:8080/",
          "height": 350
        },
        "outputId": "e74a16f8-ac51-4682-eb61-5b0757f51bd4"
      },
      "source": [
        "plt.figure(figsize=(10,5))\n",
        "plt.title(\"Accuracy graph\")\n",
        "plt.plot(_tranning_acc,label=\"Tranning Accuracy\")\n",
        "plt.plot(_validation_acc,label=\"Validation Accuracy\")\n",
        "plt.xlabel(\"iterations\")\n",
        "plt.ylabel(\"Accuracy\")\n",
        "plt.legend()\n",
        "plt.show()"
      ],
      "execution_count": 29,
      "outputs": [
        {
          "output_type": "display_data",
          "data": {
            "image/png": "[encoded data removed]",
            "text/plain": [
              "<Figure size 720x360 with 1 Axes>"
            ]
          },
          "metadata": {
            "needs_background": "light"
          }
        }
      ]
    },
    {
      "cell_type": "code",
      "metadata": {
        "id": "kMxHI9HN7Wv2"
      },
      "source": [
        "y_true_tensor = torch.tensor([])\n",
        "y_pred_tensor = torch.tensor([])\n",
        "model.eval()\n",
        "with torch.no_grad():\n",
        "      for batch in valid_iter:\n",
        "          text, text_lengths = batch.text\n",
        "          predictions = model(text).squeeze(1)\n",
        "\n",
        "          rounded_preds = torch.round(torch.sigmoid(predictions))\n",
        "          correct = (rounded_preds == batch.polarity).float() \n",
        "\n",
        "          # print(rounded_preds,batch.polarity)\n",
        "\n",
        "          y_true_tensor = torch.cat((y_true_tensor,batch.polarity))\n",
        "          y_pred_tensor = torch.cat((y_pred_tensor,rounded_preds))\n",
        "          # acc = binary_accuracy(predictions, batch.polarity)\n",
        "          # print(acc)"
      ],
      "execution_count": 30,
      "outputs": []
    },
    {
      "cell_type": "code",
      "metadata": {
        "id": "MgUGHxIw7YsX"
      },
      "source": [
        "y_true = y_true_tensor.type(torch.LongTensor).tolist()\n",
        "y_pred = y_pred_tensor.type(torch.LongTensor).tolist()"
      ],
      "execution_count": 31,
      "outputs": []
    },
    {
      "cell_type": "code",
      "metadata": {
        "id": "DHWfRA8h7aJB",
        "colab": {
          "base_uri": "https://localhost:8080/"
        },
        "outputId": "0d004b77-8891-4303-c353-92e943aa9a6f"
      },
      "source": [
        "matrice = confusion_matrix(y_true,y_pred)\n",
        "matrice"
      ],
      "execution_count": 32,
      "outputs": [
        {
          "output_type": "execute_result",
          "data": {
            "text/plain": [
              "array([[1584,   14],\n",
              "       [ 335,  126]])"
            ]
          },
          "metadata": {},
          "execution_count": 32
        }
      ]
    },
    {
      "cell_type": "code",
      "metadata": {
        "id": "JhwlrWhT7b0A",
        "colab": {
          "base_uri": "https://localhost:8080/",
          "height": 336
        },
        "outputId": "a3e08ff8-06c9-4bb3-8cb4-4720062feae2"
      },
      "source": [
        "df_cm = pd.DataFrame(matrice,columns=[0,1],index=[0,1])\n",
        "plt.figure(figsize=(5,5))\n",
        "sn.heatmap(df_cm, annot=True,annot_kws={\"size\": 10},fmt='g',cmap='Blues',)\n",
        "plt.title(f\"Confusion matrix\")\n",
        "plt.show()"
      ],
      "execution_count": 33,
      "outputs": [
        {
          "output_type": "display_data",
          "data": {
            "image/png": "[encoded data removed]",
            "text/plain": [
              "<Figure size 360x360 with 2 Axes>"
            ]
          },
          "metadata": {
            "needs_background": "light"
          }
        }
      ]
    },
    {
      "cell_type": "code",
      "metadata": {
        "id": "3bIN19ap7d5m",
        "colab": {
          "base_uri": "https://localhost:8080/"
        },
        "outputId": "afaf895b-8d9d-41ac-f7e6-2e892a74a349"
      },
      "source": [
        "classify_report = classification_report(y_true, y_pred, )\n",
        "print(classify_report)"
      ],
      "execution_count": 34,
      "outputs": [
        {
          "output_type": "stream",
          "name": "stdout",
          "text": [
            "              precision    recall  f1-score   support\n",
            "\n",
            "           0       0.83      0.99      0.90      1598\n",
            "           1       0.90      0.27      0.42       461\n",
            "\n",
            "    accuracy                           0.83      2059\n",
            "   macro avg       0.86      0.63      0.66      2059\n",
            "weighted avg       0.84      0.83      0.79      2059\n",
            "\n"
          ]
        }
      ]
    }
  ]
}